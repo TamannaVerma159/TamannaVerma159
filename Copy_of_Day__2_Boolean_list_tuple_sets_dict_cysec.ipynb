{
  "nbformat": 4,
  "nbformat_minor": 0,
  "metadata": {
    "kernelspec": {
      "display_name": "Python 3",
      "language": "python",
      "name": "python3"
    },
    "language_info": {
      "codemirror_mode": {
        "name": "ipython",
        "version": 3
      },
      "file_extension": ".py",
      "mimetype": "text/x-python",
      "name": "python",
      "nbconvert_exporter": "python",
      "pygments_lexer": "ipython3",
      "version": "3.7.3"
    },
    "colab": {
      "name": "Copy of Day _2_Boolean_list_tuple_sets_dict_cysec.ipynb",
      "provenance": [],
      "collapsed_sections": [
        "--TfhH8LLQDC"
      ],
      "include_colab_link": true
    }
  },
  "cells": [
    {
      "cell_type": "markdown",
      "metadata": {
        "id": "view-in-github",
        "colab_type": "text"
      },
      "source": [
        "<a href=\"https://colab.research.google.com/github/TamannaVerma159/TamannaVerma159/blob/main/Copy_of_Day__2_Boolean_list_tuple_sets_dict_cysec.ipynb\" target=\"_parent\"><img src=\"https://colab.research.google.com/assets/colab-badge.svg\" alt=\"Open In Colab\"/></a>"
      ]
    },
    {
      "cell_type": "markdown",
      "metadata": {
        "id": "BTizqcD-LQC1"
      },
      "source": [
        "<h1>LIST:</h1>\n"
      ]
    },
    {
      "cell_type": "code",
      "metadata": {
        "id": "LLPfH_-yLQC2"
      },
      "source": [
        "subjects = ['History', 'Math', 'Physics', 'CS']"
      ],
      "execution_count": null,
      "outputs": []
    },
    {
      "cell_type": "code",
      "metadata": {
        "id": "oj-WuotKLQC2",
        "outputId": "81b94fd6-cdff-4a0d-aedf-dc9d089cb6e2"
      },
      "source": [
        "print(subjects) \n",
        "#Prints all the elements of the list"
      ],
      "execution_count": null,
      "outputs": [
        {
          "output_type": "stream",
          "text": [
            "['History', 'Math', 'Physics', 'CS']\n"
          ],
          "name": "stdout"
        }
      ]
    },
    {
      "cell_type": "code",
      "metadata": {
        "id": "fbtfGCbPLQC3",
        "outputId": "1d0d3f53-035b-4d4d-f9cc-546f515c56ab"
      },
      "source": [
        "print(len(subjects))\n",
        "#Prints number of elements in list"
      ],
      "execution_count": null,
      "outputs": [
        {
          "output_type": "stream",
          "text": [
            "4\n"
          ],
          "name": "stdout"
        }
      ]
    },
    {
      "cell_type": "code",
      "metadata": {
        "id": "x9kBJomULQC3",
        "outputId": "c933b29b-5c52-489a-edeb-0544b5d428e2"
      },
      "source": [
        "print(subjects[0])\n",
        "#Prints the 1st element (History)"
      ],
      "execution_count": null,
      "outputs": [
        {
          "output_type": "stream",
          "text": [
            "History\n"
          ],
          "name": "stdout"
        }
      ]
    },
    {
      "cell_type": "code",
      "metadata": {
        "id": "aKu3eJoMLQC4",
        "outputId": "e9799c66-5625-4448-d4d8-bf2940d60614"
      },
      "source": [
        "print(subjects[-1])\n",
        "#Prints the last element (History)"
      ],
      "execution_count": null,
      "outputs": [
        {
          "output_type": "stream",
          "text": [
            "CS\n"
          ],
          "name": "stdout"
        }
      ]
    },
    {
      "cell_type": "code",
      "metadata": {
        "id": "YSSKhzocLQC4",
        "outputId": "1177c0cb-8eb3-4496-996a-8f8ee77be7f9"
      },
      "source": [
        "print(subjects[:2])\n",
        "#Prints the 1st & 2nd element (History)\n",
        "print(subjects[:2])"
      ],
      "execution_count": null,
      "outputs": [
        {
          "output_type": "stream",
          "text": [
            "['History', 'Math']\n",
            "['History', 'Math']\n"
          ],
          "name": "stdout"
        }
      ]
    },
    {
      "cell_type": "code",
      "metadata": {
        "id": "575slYZILQC5",
        "outputId": "8ecb93aa-ecb8-478a-d0d5-754099797df7"
      },
      "source": [
        "subjects.append('DS')\n",
        "#Adds the item at the end of the list\n",
        "print(subjects)"
      ],
      "execution_count": null,
      "outputs": [
        {
          "output_type": "stream",
          "text": [
            "['History', 'Math', 'Physics', 'CS', 'DS']\n"
          ],
          "name": "stdout"
        }
      ]
    },
    {
      "cell_type": "code",
      "metadata": {
        "id": "JoNOHsj6LQC5",
        "outputId": "e84a0a2b-2aaf-414e-ef1b-3221186b2e3e"
      },
      "source": [
        "subjects.insert(0,'DBMS')\n",
        "#Adds the item at index 0\n",
        "print(subjects)"
      ],
      "execution_count": null,
      "outputs": [
        {
          "output_type": "stream",
          "text": [
            "['DBMS', 'History', 'Math', 'Physics', 'CS', 'DS']\n"
          ],
          "name": "stdout"
        }
      ]
    },
    {
      "cell_type": "code",
      "metadata": {
        "id": "YDBHw9W6LQC5"
      },
      "source": [
        "subjects_2 = ['Art', 'Design', 'Chemistry']"
      ],
      "execution_count": null,
      "outputs": []
    },
    {
      "cell_type": "code",
      "metadata": {
        "id": "tD823xxWLQC6"
      },
      "source": [
        "#subjects.insert(0,subjects_2)\n",
        "#print(subjects)\n",
        "#Let's try to add elements of subject_2 to subjects\n",
        "#it got added as a seperate list in element 0, rather than splitting the items in subject_2 then adding them"
      ],
      "execution_count": null,
      "outputs": []
    },
    {
      "cell_type": "code",
      "metadata": {
        "id": "TdeSmLliLQC6",
        "outputId": "99cfbfd2-7a3c-48b5-d628-ea49816dfa6a"
      },
      "source": [
        "subjects.extend(subjects_2)\n",
        "print(subjects)\n",
        "#Adds each element seperately to subject_2 at the end of the list"
      ],
      "execution_count": null,
      "outputs": [
        {
          "output_type": "stream",
          "text": [
            "['DBMS', 'History', 'Math', 'Physics', 'CS', 'DS', 'Art', 'Design', 'Chemistry']\n"
          ],
          "name": "stdout"
        }
      ]
    },
    {
      "cell_type": "code",
      "metadata": {
        "id": "VX4a-VJxLQC7",
        "outputId": "b44dfc6f-cc59-4c99-8cfb-b0b79fbf99a9"
      },
      "source": [
        "subjects.remove('Math')\n",
        "#Finds & Removes Math from the list\n",
        "print(subjects)"
      ],
      "execution_count": null,
      "outputs": [
        {
          "output_type": "stream",
          "text": [
            "['DBMS', 'History', 'Physics', 'CS', 'DS', 'Art', 'Design', 'Chemistry']\n"
          ],
          "name": "stdout"
        }
      ]
    },
    {
      "cell_type": "code",
      "metadata": {
        "id": "QvS8loCyLQC7",
        "outputId": "dc4fffdc-be97-4f13-f2da-472c19fbc098"
      },
      "source": [
        "popped = subjects.pop()\n",
        "#Removes the last item in the list\n",
        "\n",
        "print(subjects)\n",
        "\n",
        "print(popped)\n",
        "#Grabs the popped item"
      ],
      "execution_count": null,
      "outputs": [
        {
          "output_type": "stream",
          "text": [
            "['DBMS', 'History', 'Physics', 'CS', 'DS', 'Art', 'Design']\n",
            "Chemistry\n"
          ],
          "name": "stdout"
        }
      ]
    },
    {
      "cell_type": "code",
      "metadata": {
        "id": "wNapgjmSLQC7",
        "outputId": "643214a0-b58d-4df3-a482-a1c04d8a8595"
      },
      "source": [
        "subjects.reverse()\n",
        "#Reverses the list\n",
        "print(subjects)"
      ],
      "execution_count": null,
      "outputs": [
        {
          "output_type": "stream",
          "text": [
            "['Design', 'Art', 'DS', 'CS', 'Physics', 'History', 'DBMS']\n"
          ],
          "name": "stdout"
        }
      ]
    },
    {
      "cell_type": "code",
      "metadata": {
        "id": "G5f4mvB7LQC8",
        "outputId": "9e3c7fe0-f64d-4219-c515-8dfcbd97a57f"
      },
      "source": [
        "subjects.sort()\n",
        "#Sorts the list in alphabetical order\n",
        "print(subjects)\n",
        "\n",
        "num_list = [2,6,4,5,3,1]\n",
        "num_list.sort()\n",
        "print(num_list)"
      ],
      "execution_count": null,
      "outputs": [
        {
          "output_type": "stream",
          "text": [
            "['Art', 'CS', 'DBMS', 'DS', 'Design', 'History', 'Physics']\n",
            "[1, 2, 3, 4, 5, 6]\n"
          ],
          "name": "stdout"
        }
      ]
    },
    {
      "cell_type": "code",
      "metadata": {
        "id": "Npu83PakLQC8",
        "outputId": "107397f1-e15c-4c1d-c413-7c06b27a10b9"
      },
      "source": [
        "print(min(num_list))\n",
        "print(max(num_list))\n",
        "print(sum(num_list))"
      ],
      "execution_count": null,
      "outputs": [
        {
          "output_type": "stream",
          "text": [
            "1\n",
            "6\n",
            "21\n"
          ],
          "name": "stdout"
        }
      ]
    },
    {
      "cell_type": "code",
      "metadata": {
        "id": "3RLs7eJrLQC8",
        "outputId": "fdff6f87-0234-4f45-a8b4-8dc3ec0cd177"
      },
      "source": [
        "print(subjects.index('CS'))\n",
        "#Returns the index value of the item"
      ],
      "execution_count": null,
      "outputs": [
        {
          "output_type": "stream",
          "text": [
            "1\n"
          ],
          "name": "stdout"
        }
      ]
    },
    {
      "cell_type": "code",
      "metadata": {
        "id": "oYIwamQxLQC8",
        "outputId": "4059783e-2440-4d0c-e940-27bf14d933e5"
      },
      "source": [
        "print('Art' in subjects)\n",
        "#Checks weather the item is present in the list or not"
      ],
      "execution_count": null,
      "outputs": [
        {
          "output_type": "stream",
          "text": [
            "True\n"
          ],
          "name": "stdout"
        }
      ]
    },
    {
      "cell_type": "code",
      "metadata": {
        "id": "9731GRc-LQC9",
        "outputId": "0bebb555-ac45-44ac-ce55-c55f3c8cf2f5"
      },
      "source": [
        "for item in subjects:\n",
        "    print(item)\n",
        "#Prints each item in new line    "
      ],
      "execution_count": null,
      "outputs": [
        {
          "output_type": "stream",
          "text": [
            "Art\n",
            "CS\n",
            "DBMS\n",
            "DS\n",
            "Design\n",
            "History\n",
            "Physics\n"
          ],
          "name": "stdout"
        }
      ]
    },
    {
      "cell_type": "code",
      "metadata": {
        "id": "IUjTrmzzLQC9",
        "outputId": "6b2095c9-e867-4bd7-fe91-ae0a627560d7"
      },
      "source": [
        "for index,subject in enumerate(subjects):\n",
        "    print(index,subject)\n",
        "#Print the items along with index numbers starting from 0. this is done by enumerate() function"
      ],
      "execution_count": null,
      "outputs": [
        {
          "output_type": "stream",
          "text": [
            "0 Art\n",
            "1 CS\n",
            "2 DBMS\n",
            "3 DS\n",
            "4 Design\n",
            "5 History\n",
            "6 Physics\n"
          ],
          "name": "stdout"
        }
      ]
    },
    {
      "cell_type": "code",
      "metadata": {
        "id": "p36DINY8LQC9",
        "outputId": "7672b925-0b81-4610-df94-863c85456c3e"
      },
      "source": [
        "for index,subject in enumerate(subjects,start=1):\n",
        "    print(index, subject)\n",
        "#Print the items along with index numbers starting from 1. this is done by enumerate() function"
      ],
      "execution_count": null,
      "outputs": [
        {
          "output_type": "stream",
          "text": [
            "1 Art\n",
            "2 CS\n",
            "3 DBMS\n",
            "4 DS\n",
            "5 Design\n",
            "6 History\n",
            "7 Physics\n"
          ],
          "name": "stdout"
        }
      ]
    },
    {
      "cell_type": "code",
      "metadata": {
        "id": "1h1WfwigLQC-",
        "outputId": "e579b5ae-2b2c-4e67-cac3-e169ad7ca66c"
      },
      "source": [
        "subject_str = ' - '.join(subjects)\n",
        "print(subject_str)\n",
        "#turns list into '-' seperated string"
      ],
      "execution_count": null,
      "outputs": [
        {
          "output_type": "stream",
          "text": [
            "Art - CS - DBMS - DS - Design - History - Physics\n"
          ],
          "name": "stdout"
        }
      ]
    },
    {
      "cell_type": "code",
      "metadata": {
        "id": "9BWpjurFLQC-",
        "outputId": "7d3b78cb-5060-4a3f-9e80-3e9ed3f19864"
      },
      "source": [
        "new_list = subject_str.split('-')\n",
        "print(new_list)\n",
        "#Creates the list, just reverse of .join()"
      ],
      "execution_count": null,
      "outputs": [
        {
          "output_type": "stream",
          "text": [
            "['Art ', ' CS ', ' DBMS ', ' DS ', ' Design ', ' History ', ' Physics']\n"
          ],
          "name": "stdout"
        }
      ]
    },
    {
      "cell_type": "markdown",
      "metadata": {
        "id": "V5i7mgrzLQC-"
      },
      "source": [
        "\n",
        "\n",
        "<h1>Tuple: </h1>\n",
        "Doesn't have much supported functions as of list because tuple is immutable"
      ]
    },
    {
      "cell_type": "code",
      "metadata": {
        "id": "1OZy02h6LQC-"
      },
      "source": [
        "tup_1 = ('History', 'Math', 'Physics', 'CS')"
      ],
      "execution_count": null,
      "outputs": []
    },
    {
      "cell_type": "code",
      "metadata": {
        "id": "-I43OdqMLQC_",
        "outputId": "c7a8fed3-1b97-4516-a66e-676e0c54f1ca"
      },
      "source": [
        "tup_1[0] = 'Art'"
      ],
      "execution_count": null,
      "outputs": [
        {
          "output_type": "error",
          "ename": "TypeError",
          "evalue": "'tuple' object does not support item assignment",
          "traceback": [
            "\u001b[1;31m---------------------------------------------------------------------------\u001b[0m",
            "\u001b[1;31mTypeError\u001b[0m                                 Traceback (most recent call last)",
            "\u001b[1;32m<ipython-input-25-20f41ff68d0f>\u001b[0m in \u001b[0;36m<module>\u001b[1;34m\u001b[0m\n\u001b[1;32m----> 1\u001b[1;33m \u001b[0mtup_1\u001b[0m\u001b[1;33m[\u001b[0m\u001b[1;36m0\u001b[0m\u001b[1;33m]\u001b[0m \u001b[1;33m=\u001b[0m \u001b[1;34m'Art'\u001b[0m\u001b[1;33m\u001b[0m\u001b[1;33m\u001b[0m\u001b[0m\n\u001b[0m",
            "\u001b[1;31mTypeError\u001b[0m: 'tuple' object does not support item assignment"
          ]
        }
      ]
    },
    {
      "cell_type": "code",
      "metadata": {
        "id": "8-3mePWOLQC_",
        "outputId": "c3269b07-aaee-429b-ca9f-d163b51eaca6"
      },
      "source": [
        "print(tup_1)"
      ],
      "execution_count": null,
      "outputs": [
        {
          "output_type": "stream",
          "text": [
            "('History', 'Math', 'Physics', 'CS')\n"
          ],
          "name": "stdout"
        }
      ]
    },
    {
      "cell_type": "code",
      "metadata": {
        "id": "5SnbIgffLQC_"
      },
      "source": [
        "#Only supports that functions that doesn't mutate the list"
      ],
      "execution_count": null,
      "outputs": []
    },
    {
      "cell_type": "markdown",
      "metadata": {
        "id": "O8qTVRHuLQC_"
      },
      "source": [
        "\n",
        "\n",
        "\n",
        "<h1>SETS: </h1>\n",
        "Doesn't care about order & dumps away duplicate item\n"
      ]
    },
    {
      "cell_type": "code",
      "metadata": {
        "id": "13b_C9MMLQC_"
      },
      "source": [
        "cs_courses = {'DS','DBMS','History','Math','Physics'}"
      ],
      "execution_count": null,
      "outputs": []
    },
    {
      "cell_type": "code",
      "metadata": {
        "id": "xO6PUAT2LQDA"
      },
      "source": [
        "#Changes order every time the code executes"
      ],
      "execution_count": null,
      "outputs": []
    },
    {
      "cell_type": "code",
      "metadata": {
        "id": "GGaZ0YfTLQDA",
        "outputId": "16bbe799-0e9c-4387-f5c8-2ed5676c4936"
      },
      "source": [
        "print('Math' in cs_courses)\n",
        "#Checks membership in the set"
      ],
      "execution_count": null,
      "outputs": [
        {
          "output_type": "stream",
          "text": [
            "True\n"
          ],
          "name": "stdout"
        }
      ]
    },
    {
      "cell_type": "code",
      "metadata": {
        "id": "aRGO70bsLQDA"
      },
      "source": [
        "art_courses = {'History','Math','Art','Design'}"
      ],
      "execution_count": null,
      "outputs": []
    },
    {
      "cell_type": "code",
      "metadata": {
        "id": "bOJ9HsktLQDA",
        "outputId": "a1bfdcc4-86ab-489f-d353-bfdce6c01dbc"
      },
      "source": [
        "print(cs_courses.intersection(art_courses))\n",
        "#Returns common items in both sets"
      ],
      "execution_count": null,
      "outputs": [
        {
          "output_type": "stream",
          "text": [
            "{'Math', 'History'}\n"
          ],
          "name": "stdout"
        }
      ]
    },
    {
      "cell_type": "code",
      "metadata": {
        "id": "fLdoXII7LQDB",
        "outputId": "785cfc00-181e-41c9-8eb0-180a6ce390b6"
      },
      "source": [
        "print(cs_courses.difference(art_courses))\n",
        "\n",
        "#Returns the items not present in second set"
      ],
      "execution_count": null,
      "outputs": [
        {
          "output_type": "stream",
          "text": [
            "{'DS', 'DBMS', 'Physics'}\n"
          ],
          "name": "stdout"
        }
      ]
    },
    {
      "cell_type": "code",
      "metadata": {
        "id": "qmVhbiKBLQDB",
        "outputId": "b67e162b-6cb6-453b-94a9-ed97419379ba"
      },
      "source": [
        "print(cs_courses.union(art_courses))\n",
        "\n",
        "#Prints all the items from both sets dropping the duplicate items in a new set"
      ],
      "execution_count": null,
      "outputs": [
        {
          "output_type": "stream",
          "text": [
            "{'Math', 'History', 'Physics', 'DS', 'Design', 'Art', 'DBMS'}\n"
          ],
          "name": "stdout"
        }
      ]
    },
    {
      "cell_type": "code",
      "metadata": {
        "id": "6FIYuzhILQDB"
      },
      "source": [
        "#Empty List\n",
        "empty_list = []\n",
        "empty_list = list()"
      ],
      "execution_count": null,
      "outputs": []
    },
    {
      "cell_type": "code",
      "metadata": {
        "id": "6QwJC88iLQDB"
      },
      "source": [
        "#Empty Tuples\n",
        "empty_tuple = ()\n",
        "empty_tuple = tuple()"
      ],
      "execution_count": null,
      "outputs": []
    },
    {
      "cell_type": "code",
      "metadata": {
        "id": "dVpCWEaSLQDB"
      },
      "source": [
        "#Empty sets\n",
        "empty_set = {} #This will create an empty dictionary instead of empty sets\n",
        "empty_set = set()"
      ],
      "execution_count": null,
      "outputs": []
    },
    {
      "cell_type": "markdown",
      "metadata": {
        "id": "--TfhH8LLQDC"
      },
      "source": [
        "\n",
        "\n",
        "\n",
        "# Dictionary:-\n",
        "\n",
        "#### Playing with Key:Value pairs"
      ]
    },
    {
      "cell_type": "code",
      "metadata": {
        "id": "-LtxawYKLQDC"
      },
      "source": [
        "student = {'name':'harsh', 'age':25, 'course':['Math','Physics']}"
      ],
      "execution_count": null,
      "outputs": []
    },
    {
      "cell_type": "code",
      "metadata": {
        "id": "ZmKzBKZjLQDC",
        "outputId": "67d668da-de8e-4f6c-df7c-cfefb38564b8"
      },
      "source": [
        "print(student) \n",
        "#prints dictionary with keys & values"
      ],
      "execution_count": null,
      "outputs": [
        {
          "output_type": "stream",
          "text": [
            "{'name': 'harsh', 'age': 25, 'course': ['Math', 'Physics']}\n"
          ],
          "name": "stdout"
        }
      ]
    },
    {
      "cell_type": "code",
      "metadata": {
        "id": "qeOTrEJNLQDC",
        "outputId": "0b645bca-4cac-47f9-d033-b372cc8f1053"
      },
      "source": [
        "print(student['name'])\n",
        "#Prints values of specified key & gives error on the absence of the key"
      ],
      "execution_count": null,
      "outputs": [
        {
          "output_type": "stream",
          "text": [
            "harsh\n"
          ],
          "name": "stdout"
        }
      ]
    },
    {
      "cell_type": "code",
      "metadata": {
        "id": "dI8SLVdMLQDD",
        "outputId": "41779958-ff5c-49e0-e212-c5a9130a143a"
      },
      "source": [
        "print(student.get('phone'))\n",
        "#Prints values of specified key & doesn't gives error on the absence of the key"
      ],
      "execution_count": null,
      "outputs": [
        {
          "output_type": "stream",
          "text": [
            "None\n"
          ],
          "name": "stdout"
        }
      ]
    },
    {
      "cell_type": "code",
      "metadata": {
        "id": "smNqR1U-LQDD"
      },
      "source": [
        "#Let's add a phone no to our dictionary\n",
        "student['phone'] = '999-9999'"
      ],
      "execution_count": null,
      "outputs": []
    },
    {
      "cell_type": "code",
      "metadata": {
        "id": "n3wlm2naLQDD",
        "outputId": "f2f9b8ad-f67e-4765-e22f-68f9bd34e802"
      },
      "source": [
        "student['name'] = 'akshit'\n",
        "print(student)\n",
        "#update a key\n"
      ],
      "execution_count": null,
      "outputs": [
        {
          "output_type": "stream",
          "text": [
            "{'name': 'akshit', 'age': 25, 'course': ['Math', 'Physics'], 'phone': '999-9999'}\n"
          ],
          "name": "stdout"
        }
      ]
    },
    {
      "cell_type": "code",
      "metadata": {
        "id": "w5dsqpoKLQDD",
        "outputId": "704438ae-af2a-4103-c12d-3617b37162e1"
      },
      "source": [
        "#Updating various keys in a single line of code\n",
        "\n",
        "student.update({'name':'harsh',\n",
        "               'age': 21,\n",
        "               'phone': '111-1111'})\n",
        "print(student)"
      ],
      "execution_count": null,
      "outputs": [
        {
          "output_type": "stream",
          "text": [
            "{'name': 'harsh', 'age': 21, 'course': ['Math', 'Physics'], 'phone': '111-1111'}\n"
          ],
          "name": "stdout"
        }
      ]
    },
    {
      "cell_type": "code",
      "metadata": {
        "id": "OABFWrcwLQDE",
        "outputId": "d7c38dad-6586-41d3-e110-f49cf46203e3"
      },
      "source": [
        "#Prints keys from the dictionary\n",
        "\n",
        "print(student.keys())"
      ],
      "execution_count": null,
      "outputs": [
        {
          "output_type": "stream",
          "text": [
            "dict_keys(['name', 'age', 'course', 'phone'])\n"
          ],
          "name": "stdout"
        }
      ]
    },
    {
      "cell_type": "code",
      "metadata": {
        "id": "SziTHTUGLQDE",
        "outputId": "2fe99a92-7c1f-4b13-bbb6-4cb3ee7b6a26"
      },
      "source": [
        "#Prints valuess from the dictionary\n",
        "\n",
        "print(student.values())"
      ],
      "execution_count": null,
      "outputs": [
        {
          "output_type": "stream",
          "text": [
            "dict_values(['harsh', 21, ['Math', 'Physics'], '111-1111'])\n"
          ],
          "name": "stdout"
        }
      ]
    },
    {
      "cell_type": "code",
      "metadata": {
        "id": "TpKXGIVTLQDF",
        "outputId": "f729dd86-6ca3-46be-85b1-4a88e0f8a45a"
      },
      "source": [
        "#Iterates and prints only keys from the dictionary\n",
        "\n",
        "for key in student:\n",
        "    print(key)"
      ],
      "execution_count": null,
      "outputs": [
        {
          "output_type": "stream",
          "text": [
            "name\n",
            "age\n",
            "course\n",
            "phone\n"
          ],
          "name": "stdout"
        }
      ]
    },
    {
      "cell_type": "code",
      "metadata": {
        "id": "p9tGAs9rLQDF"
      },
      "source": [
        "#Iterates and prints only keys from the dictionary\n",
        "\n",
        "for key, in student:\n",
        "    print(key)"
      ],
      "execution_count": null,
      "outputs": []
    }
  ]
}