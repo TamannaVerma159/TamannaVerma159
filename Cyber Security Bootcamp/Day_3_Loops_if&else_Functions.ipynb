{
  "nbformat": 4,
  "nbformat_minor": 0,
  "metadata": {
    "kernelspec": {
      "display_name": "Python 3",
      "language": "python",
      "name": "python3"
    },
    "language_info": {
      "codemirror_mode": {
        "name": "ipython",
        "version": 3
      },
      "file_extension": ".py",
      "mimetype": "text/x-python",
      "name": "python",
      "nbconvert_exporter": "python",
      "pygments_lexer": "ipython3",
      "version": "3.7.3"
    },
    "colab": {
      "name": "Day_3_Loops_if&else_Functions.ipynb",
      "provenance": []
    }
  },
  "cells": [
    {
      "cell_type": "markdown",
      "metadata": {
        "id": "718wb01SdrKC"
      },
      "source": [
        "# Control Flow:\n",
        "#### Welcome to this lesson on Control Flow! Control flow is the sequence in which your code is run helping you in decision making.<br> Here, we'll learn about several tools in Python we can use to affect our code's control flow:\n",
        "\n",
        "- Conditional Statements\n",
        "- Boolean Expressions\n",
        "- For and While Loops\n",
        "- Break and Continue\n",
        "- Zip and Enumerate\n",
        "- List Comprehensions"
      ]
    },
    {
      "cell_type": "markdown",
      "metadata": {
        "id": "jJ2oWO62drKF"
      },
      "source": [
        "### Comparisons operators:\n",
        "- Equal:            ==\n",
        "- Not Equal:        !=\n",
        "- Greater than:     >\n",
        "- Less than:        <\n",
        "- Greater or equal: >=\n",
        "- Less or equal:    <=\n",
        "- Object Identity:  is - Checks weather two elements are same object and memory\n"
      ]
    },
    {
      "cell_type": "code",
      "metadata": {
        "id": "1vT66OzldrKG",
        "outputId": "5cee17d7-5dd8-4776-8017-2e5844c475f9"
      },
      "source": [
        "lang = 'Java'\n",
        "\n",
        "if lang == 'Python':\n",
        "    print('Language is Python')\n",
        "elif lang == 'Java':\n",
        "    print('Language is Java')\n",
        "else:\n",
        "    print('No match')"
      ],
      "execution_count": null,
      "outputs": [
        {
          "output_type": "stream",
          "text": [
            "Language is Java\n"
          ],
          "name": "stdout"
        }
      ]
    },
    {
      "cell_type": "code",
      "metadata": {
        "id": "g6mB3O-9drKH",
        "outputId": "164216df-bd27-40f5-9879-983d20f6ad44"
      },
      "source": [
        "#and,or & not:\n",
        "\n",
        "user = 'Admin'\n",
        "logged_in = False\n",
        "\n",
        "if user == 'Admin' and logged_in:\n",
        "    print('Admin page')\n",
        "else:\n",
        "    print('Bad creds')"
      ],
      "execution_count": null,
      "outputs": [
        {
          "output_type": "stream",
          "text": [
            "Bad creds\n"
          ],
          "name": "stdout"
        }
      ]
    },
    {
      "cell_type": "code",
      "metadata": {
        "id": "ZEI5hBqYdrKH",
        "outputId": "0148aa65-6b1e-40d4-f331-0ea5dab5a483"
      },
      "source": [
        "user = 'Admin'\n",
        "logged_in = True\n",
        "\n",
        "if user == 'Admin' or logged_in:\n",
        "    print('Admin page')\n",
        "else:\n",
        "    print('Bad creds')"
      ],
      "execution_count": null,
      "outputs": [
        {
          "output_type": "stream",
          "text": [
            "Admin page\n"
          ],
          "name": "stdout"
        }
      ]
    },
    {
      "cell_type": "code",
      "metadata": {
        "id": "CqIgom7OdrKI",
        "outputId": "8c3d6775-4352-4f70-9afb-79e81452dea7"
      },
      "source": [
        "a = [1,2,3]\n",
        "b = [1,2,3]\n",
        "\n",
        "print(a == b)"
      ],
      "execution_count": null,
      "outputs": [
        {
          "output_type": "stream",
          "text": [
            "True\n"
          ],
          "name": "stdout"
        }
      ]
    },
    {
      "cell_type": "code",
      "metadata": {
        "id": "6wdocrx3drKI",
        "outputId": "4b3da4bf-5932-4dc2-d19e-b771dd8cc9a5"
      },
      "source": [
        "a = [1,2,3]\n",
        "b = [1,2,3]\n",
        "\n",
        "print(id(a))\n",
        "print(id(b))\n",
        "print(id(a)==id(b))\n",
        "print(a is b)"
      ],
      "execution_count": null,
      "outputs": [
        {
          "output_type": "stream",
          "text": [
            "2466803111560\n",
            "2466803109960\n",
            "False\n",
            "False\n"
          ],
          "name": "stdout"
        }
      ]
    },
    {
      "cell_type": "markdown",
      "metadata": {
        "id": "lIV8tYhGdrKJ"
      },
      "source": [
        "#### False values: <br>\n",
        "False<br>\n",
        "None<br>\n",
        "Numerical Zero<br>\n",
        "Any empty sequence. Eg: '', (), []<br>\n",
        "Any empty mapping. Eg: {}<br>\n"
      ]
    },
    {
      "cell_type": "code",
      "metadata": {
        "id": "UvSWGb3ydrKJ",
        "outputId": "7b9cf365-f2e8-4079-e2c3-48aecffd486a"
      },
      "source": [
        "condition = 2\n",
        "\n",
        "if condition:\n",
        "    print('Evaluated to True')\n",
        "else:\n",
        "    print('Evaluated to False')"
      ],
      "execution_count": null,
      "outputs": [
        {
          "output_type": "stream",
          "text": [
            "Evaluated to True\n"
          ],
          "name": "stdout"
        }
      ]
    },
    {
      "cell_type": "markdown",
      "metadata": {
        "id": "LxxGyGT3drKJ"
      },
      "source": [
        "### Loops & Iterations - for/while loops:"
      ]
    },
    {
      "cell_type": "code",
      "metadata": {
        "id": "APNg5XFldrKK"
      },
      "source": [
        "nums = [1,2,3,4,5]"
      ],
      "execution_count": null,
      "outputs": []
    },
    {
      "cell_type": "code",
      "metadata": {
        "id": "G8xeqt0vdrKK",
        "outputId": "2bb44bac-c090-4cf8-8481-f52e678ec7cc"
      },
      "source": [
        "for num in nums:\n",
        "    print(num)\n",
        "\n",
        "#Iterates and returns each item using loop"
      ],
      "execution_count": null,
      "outputs": [
        {
          "output_type": "stream",
          "text": [
            "1\n",
            "2\n",
            "3\n",
            "4\n",
            "5\n"
          ],
          "name": "stdout"
        }
      ]
    },
    {
      "cell_type": "code",
      "metadata": {
        "id": "tp-KAnCxdrKK",
        "outputId": "0faa76b1-fb73-4cc7-f495-f1699085fa1c"
      },
      "source": [
        "for num in nums:\n",
        "    if num == 3:\n",
        "        print('Found!')\n",
        "        break\n",
        "    print(num)\n",
        "    \n",
        "#Breaks out of loop if the item is found"
      ],
      "execution_count": null,
      "outputs": [
        {
          "output_type": "stream",
          "text": [
            "1\n",
            "2\n",
            "Found!\n"
          ],
          "name": "stdout"
        }
      ]
    },
    {
      "cell_type": "code",
      "metadata": {
        "id": "QUK9fm7rdrKL"
      },
      "source": [
        ""
      ],
      "execution_count": null,
      "outputs": []
    },
    {
      "cell_type": "code",
      "metadata": {
        "id": "vmqQO09fdrKL",
        "outputId": "e45f179f-97f2-40ca-d5f0-8a4f23b0e2e5"
      },
      "source": [
        "for num in nums:\n",
        "    if num == 3:\n",
        "        print('Found!')\n",
        "        continue\n",
        "    print(num)\n",
        "    \n",
        "#Breaks out of loop if the item is found"
      ],
      "execution_count": null,
      "outputs": [
        {
          "output_type": "stream",
          "text": [
            "1\n",
            "2\n",
            "Found!\n",
            "4\n",
            "5\n"
          ],
          "name": "stdout"
        }
      ]
    },
    {
      "cell_type": "code",
      "metadata": {
        "id": "SRzASf__drKL",
        "outputId": "9a4e1fb6-5a56-45d7-b671-75a6aeb54168"
      },
      "source": [
        "for num in nums:\n",
        "    for letter in 'abc':\n",
        "        print(num,letter)\n",
        "\n",
        "#Nested loop - Loop within a loop"
      ],
      "execution_count": null,
      "outputs": [
        {
          "output_type": "stream",
          "text": [
            "1 a\n",
            "1 b\n",
            "1 c\n",
            "2 a\n",
            "2 b\n",
            "2 c\n",
            "3 a\n",
            "3 b\n",
            "3 c\n",
            "4 a\n",
            "4 b\n",
            "4 c\n",
            "5 a\n",
            "5 b\n",
            "5 c\n"
          ],
          "name": "stdout"
        }
      ]
    },
    {
      "cell_type": "code",
      "metadata": {
        "id": "OBB4aAswdrKM",
        "outputId": "e5306b5f-bf6c-4b35-fb64-838d14d88c45"
      },
      "source": [
        "for i in range(10):\n",
        "    print(i)\n",
        "\n",
        "#prints 0-9"
      ],
      "execution_count": null,
      "outputs": [
        {
          "output_type": "stream",
          "text": [
            "0\n",
            "1\n",
            "2\n",
            "3\n",
            "4\n",
            "5\n",
            "6\n",
            "7\n",
            "8\n",
            "9\n"
          ],
          "name": "stdout"
        }
      ]
    },
    {
      "cell_type": "code",
      "metadata": {
        "id": "3la9djt5drKM",
        "outputId": "e4bd9791-3bf9-44b6-ace5-f54a63cfbccf"
      },
      "source": [
        "for i in range(1,11):\n",
        "    print(i)\n",
        "#prints 1-10, taking one step at a moment"
      ],
      "execution_count": null,
      "outputs": [
        {
          "output_type": "stream",
          "text": [
            "1\n",
            "2\n",
            "3\n",
            "4\n",
            "5\n",
            "6\n",
            "7\n",
            "8\n",
            "9\n",
            "10\n"
          ],
          "name": "stdout"
        }
      ]
    },
    {
      "cell_type": "code",
      "metadata": {
        "id": "3Ma23kHudrKM",
        "outputId": "a85be580-8ce5-42f9-8368-0802535840c1"
      },
      "source": [
        "for i in range(1,21,2):\n",
        "    print(i)\n",
        "#prints 1-19, skipping a value after each iteration"
      ],
      "execution_count": null,
      "outputs": [
        {
          "output_type": "stream",
          "text": [
            "1\n",
            "3\n",
            "5\n",
            "7\n",
            "9\n",
            "11\n",
            "13\n",
            "15\n",
            "17\n",
            "19\n"
          ],
          "name": "stdout"
        }
      ]
    },
    {
      "cell_type": "code",
      "metadata": {
        "id": "Ug5qI-BAdrKN",
        "outputId": "d2411c6b-5544-4862-d031-76525876c047"
      },
      "source": [
        "### While loop:\n",
        "x = 0\n",
        "\n",
        "while x < 10:\n",
        "    print(x)\n",
        "    x += 1\n",
        "\n",
        "'''    \n",
        "while \n",
        "    \n"
      ],
      "execution_count": null,
      "outputs": [
        {
          "output_type": "stream",
          "text": [
            "0\n",
            "1\n",
            "2\n",
            "3\n",
            "4\n",
            "5\n",
            "6\n",
            "7\n",
            "8\n",
            "9\n"
          ],
          "name": "stdout"
        }
      ]
    },
    {
      "cell_type": "markdown",
      "metadata": {
        "id": "-NBWfpLidrKN"
      },
      "source": [
        "# Functions:\n"
      ]
    },
    {
      "cell_type": "code",
      "metadata": {
        "id": "Aq_dC9mQdrKN"
      },
      "source": [
        "def hello_func():\n",
        "    pass\n",
        "\n",
        "#pass keywords avoid errors if we want to leave that function for a while \n",
        "#Paranthesis () is where we pass the parameters"
      ],
      "execution_count": null,
      "outputs": []
    },
    {
      "cell_type": "code",
      "metadata": {
        "id": "XR0zrO-PdrKN"
      },
      "source": [
        "hello_func() # to run the function"
      ],
      "execution_count": null,
      "outputs": []
    },
    {
      "cell_type": "code",
      "metadata": {
        "id": "jb_RRXBndrKO",
        "outputId": "80375608-4506-4f05-84c7-457b2eb06082"
      },
      "source": [
        "def hello_func():\n",
        "    print('Hello Function!')\n",
        "hello_func()"
      ],
      "execution_count": null,
      "outputs": [
        {
          "output_type": "stream",
          "text": [
            "Hello Function!\n"
          ],
          "name": "stdout"
        }
      ]
    },
    {
      "cell_type": "markdown",
      "metadata": {
        "id": "8gpmo1rydrKO"
      },
      "source": [
        "#### Functions allows to reuse the code just like variable. \n",
        "#### Works as a machine, we give input to get the desirable output"
      ]
    },
    {
      "cell_type": "code",
      "metadata": {
        "id": "9yJtYRXIdrKP",
        "outputId": "efd2b44a-4fc5-40c7-fa4b-62bd187be1e8"
      },
      "source": [
        "def hello_func():\n",
        "    return 'Hello Function!'\n",
        "hello_func()\n",
        "\n",
        "#When we executes the function, then it's equivalent to the return value\n",
        "#As the return value is a string, then we can use string methods with the function\n",
        "\n",
        "print(hello_func().upper())"
      ],
      "execution_count": null,
      "outputs": [
        {
          "output_type": "stream",
          "text": [
            "HELLO FUNCTION!\n"
          ],
          "name": "stdout"
        }
      ]
    },
    {
      "cell_type": "code",
      "metadata": {
        "id": "UzrGUt6idrKP",
        "outputId": "cf476874-527b-4afe-c078-ba86ca988d74"
      },
      "source": [
        "# Passing an argument/parameter to the function.\n",
        "\n",
        "def hello_func(greeting):\n",
        "    return '{} Function!'.format(greeting)\n",
        "print(hello_func('Hi'))\n",
        "\n",
        "# greeting variable doesn't affect any variable outside the function. It's scope is local to this function\n",
        "# You can define a variable named greeting, outside the function."
      ],
      "execution_count": null,
      "outputs": [
        {
          "output_type": "stream",
          "text": [
            "Hi Function!\n"
          ],
          "name": "stdout"
        }
      ]
    },
    {
      "cell_type": "code",
      "metadata": {
        "id": "H9a4Ew-YdrKP",
        "outputId": "c7007ac3-c09a-450f-a4e3-897463b17764"
      },
      "source": [
        "#Passing two parameters and default values\n",
        "\n",
        "def hello_func(greeting,name='You'):\n",
        "    return '{}, {}!'.format(greeting, name)\n",
        "\n",
        "print(hello_func('Hi','harsh'))\n",
        "\n",
        "#You is default value for name parameter"
      ],
      "execution_count": null,
      "outputs": [
        {
          "output_type": "stream",
          "text": [
            "Hi, harsh!\n"
          ],
          "name": "stdout"
        }
      ]
    },
    {
      "cell_type": "code",
      "metadata": {
        "id": "fmce_CYRdrKQ",
        "outputId": "af048c68-ca15-4ba8-f6de-0ce4a2d886ad"
      },
      "source": [
        "# Use it when you aren't sure about the numbers of arguments(args) and keyword arguments (kwargs)\n",
        "# args - arguments\n",
        "# kwargs - Keyword arguments\n",
        "\n",
        "def student_info(*args, **kwargs):\n",
        "    print(args)\n",
        "    print(kwargs)\n",
        "\n",
        "print(student_info('Math', 'Art', name = 'harsh', age = '21'))"
      ],
      "execution_count": null,
      "outputs": [
        {
          "output_type": "stream",
          "text": [
            "('Math', 'Art')\n",
            "{'name': 'harsh', 'age': '21'}\n",
            "None\n"
          ],
          "name": "stdout"
        }
      ]
    },
    {
      "cell_type": "code",
      "metadata": {
        "id": "bEyUeRfHdrKQ",
        "outputId": "2695f101-6db3-4d98-b204-c5dc8af5d868"
      },
      "source": [
        "# Use it when you aren't sure about the numbers of arguments(args) and keyword arguments (kwargs)\n",
        "# args - arguments\n",
        "# kwargs - Keyword arguments\n",
        "\n",
        "def student_info(*args, **kwargs):\n",
        "    print(args)\n",
        "    print(kwargs)\n",
        "\n",
        "courses = ['Math','Art']\n",
        "info = {'name':'harsh', 'age':'21'}\n",
        "\n",
        "print(student_info(courses,info))"
      ],
      "execution_count": null,
      "outputs": [
        {
          "output_type": "stream",
          "text": [
            "(['Math', 'Art'], {'name': 'harsh', 'age': '21'})\n",
            "{}\n",
            "None\n"
          ],
          "name": "stdout"
        }
      ]
    },
    {
      "cell_type": "markdown",
      "metadata": {
        "id": "Wmpl93oodrKQ"
      },
      "source": [
        "#### * & ** is added to differentiate b/w arguments and keyword arguments"
      ]
    },
    {
      "cell_type": "markdown",
      "metadata": {
        "id": "DMGF_m6QdrKQ"
      },
      "source": [
        "### Let's put everything together and create a program to check if a year is leap or not "
      ]
    },
    {
      "cell_type": "code",
      "metadata": {
        "id": "pGb9OakBdrKR"
      },
      "source": [
        "month_days = [0, 31, 28, 31 , 30 , \n",
        "             31 , 30, 31, 31 , 30, \n",
        "             31, 30, 31]\n",
        "\n",
        "#Number of days per month. First value placeholder for indexing purpose"
      ],
      "execution_count": null,
      "outputs": []
    },
    {
      "cell_type": "code",
      "metadata": {
        "id": "2O17JxOLdrKR"
      },
      "source": [
        "def is_leap(year):\n",
        "    return year % 4 == 0 and (year % 100 == 0 or year % 400 == 0)\n",
        "\n",
        "#Return True for leap years & False for non-leap year. "
      ],
      "execution_count": null,
      "outputs": []
    },
    {
      "cell_type": "code",
      "metadata": {
        "id": "eDIclFAvdrKU",
        "outputId": "9f41e2b4-9fe2-4f04-bf4b-5318193b8fd0"
      },
      "source": [
        "# Return number of days in that month in that year.\n",
        "\n",
        "def days_in_month(year,month):\n",
        "    if not 1 <= month <= 12:\n",
        "        return 'Invalid Month'\n",
        "    if month == 2 and is_leap(year):\n",
        "        return 29\n",
        "    \n",
        "    return month_days[month]\n",
        "\n",
        "print(days_in_month(2020, 2))"
      ],
      "execution_count": null,
      "outputs": [
        {
          "output_type": "stream",
          "text": [
            "28\n"
          ],
          "name": "stdout"
        }
      ]
    },
    {
      "cell_type": "code",
      "metadata": {
        "id": "iB6gmyjWdrKU"
      },
      "source": [
        ""
      ],
      "execution_count": null,
      "outputs": []
    }
  ]
}