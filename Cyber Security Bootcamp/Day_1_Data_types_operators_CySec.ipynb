{
  "nbformat": 4,
  "nbformat_minor": 0,
  "metadata": {
    "kernelspec": {
      "display_name": "Python 3",
      "language": "python",
      "name": "python3"
    },
    "language_info": {
      "codemirror_mode": {
        "name": "ipython",
        "version": 3
      },
      "file_extension": ".py",
      "mimetype": "text/x-python",
      "name": "python",
      "nbconvert_exporter": "python",
      "pygments_lexer": "ipython3",
      "version": "3.7.3"
    },
    "colab": {
      "name": "Day_1_Data_types_operators_CySec.ipynb",
      "provenance": []
    }
  },
  "cells": [
    {
      "cell_type": "markdown",
      "metadata": {
        "id": "o5wPiFSRPTOA"
      },
      "source": [
        "<h1>Data Types and Operators</h1>\n",
        "<h4>Welcome to this lesson on Data Types and Operators! You'll learn about:</h4> \n",
        "\n",
        "- <h4>Data Types:</h4> Strings, Integers, Floats, Booleans, Lists, Tuples, Sets, Dictionaries\n",
        "\n",
        "- <h4>Operators:</h4> Arithmetic, Assignment, Comparison, Logical, Membership, Identity\n",
        "\n",
        "\n",
        "- Built-In Functions, Compound Data Structures, Type Conversion\n"
      ]
    },
    {
      "cell_type": "markdown",
      "metadata": {
        "id": "zUEVWhO2PTOD"
      },
      "source": [
        "<h1>Strings:<h1>"
      ]
    },
    {
      "cell_type": "code",
      "metadata": {
        "id": "UGCX43ZRPTOE"
      },
      "source": [
        "#String: Enclosed textual data within quotes\n",
        "var_1 = 'Hello World!'\n",
        "var_2 = \"Youtube is Google's video streaming platform\""
      ],
      "execution_count": null,
      "outputs": []
    },
    {
      "cell_type": "code",
      "metadata": {
        "id": "B66-LU8mPTOE",
        "outputId": "0b8a8736-3ad1-44ba-96be-5929e247bf8a"
      },
      "source": [
        "print(var_1)\n",
        "#Prints the value of variable"
      ],
      "execution_count": null,
      "outputs": [
        {
          "output_type": "stream",
          "text": [
            "Hello World!\n"
          ],
          "name": "stdout"
        }
      ]
    },
    {
      "cell_type": "code",
      "metadata": {
        "id": "UGwXUtzpPTOF",
        "outputId": "e24b0f14-95fe-45ba-c1c9-3b93f6a67c70"
      },
      "source": [
        "print(len(var_1))\n",
        "#Prints the length of variable"
      ],
      "execution_count": null,
      "outputs": [
        {
          "output_type": "stream",
          "text": [
            "12\n"
          ],
          "name": "stdout"
        }
      ]
    },
    {
      "cell_type": "code",
      "metadata": {
        "id": "pZINnoItPTOG",
        "outputId": "8d2985d6-6b2c-4ea3-de81-23275ff42f74"
      },
      "source": [
        "#In python, Indexing starts from 0,1,2,3\n",
        "print(var_1[10])\n",
        "#prints character at index 10\n"
      ],
      "execution_count": null,
      "outputs": [
        {
          "output_type": "stream",
          "text": [
            "d\n"
          ],
          "name": "stdout"
        }
      ]
    },
    {
      "cell_type": "code",
      "metadata": {
        "id": "SG3tZXCcPTOG",
        "outputId": "e770e9af-a3d3-49b8-b952-86df32e5da38"
      },
      "source": [
        "print(var_1[0:5])\n",
        "#prints character index 0-4 but 5 isn't included"
      ],
      "execution_count": null,
      "outputs": [
        {
          "output_type": "stream",
          "text": [
            "Hello\n"
          ],
          "name": "stdout"
        }
      ]
    },
    {
      "cell_type": "code",
      "metadata": {
        "id": "y25Qe0QaPTOG",
        "outputId": "4f973c50-c007-482e-e225-ec6d6a37106b"
      },
      "source": [
        "print(var_1[6:])\n",
        "#prints character index 6-last index "
      ],
      "execution_count": null,
      "outputs": [
        {
          "output_type": "stream",
          "text": [
            "World!\n"
          ],
          "name": "stdout"
        }
      ]
    },
    {
      "cell_type": "markdown",
      "metadata": {
        "id": "CtnDhwEqPTOH"
      },
      "source": [
        "###### The above operations using square [] brackets is called slicing"
      ]
    },
    {
      "cell_type": "code",
      "metadata": {
        "id": "vcRLcBchPTOH",
        "outputId": "ed94a388-e8f4-4093-ef84-8035794fa0e2"
      },
      "source": [
        "print(var_1.lower()) #Prints strings in lower case"
      ],
      "execution_count": null,
      "outputs": [
        {
          "output_type": "stream",
          "text": [
            "hello world!\n"
          ],
          "name": "stdout"
        }
      ]
    },
    {
      "cell_type": "code",
      "metadata": {
        "id": "3pJm1MXuPTOI",
        "outputId": "ace864fd-6895-4dc6-f9d3-171f50925c48"
      },
      "source": [
        "print(var_1.upper()) #Prints strings in upper case"
      ],
      "execution_count": null,
      "outputs": [
        {
          "output_type": "stream",
          "text": [
            "HELLO WORLD!\n"
          ],
          "name": "stdout"
        }
      ]
    },
    {
      "cell_type": "code",
      "metadata": {
        "id": "i59OuqhvPTOI",
        "outputId": "b8213513-342a-46e9-c54b-ddfd92c494fc"
      },
      "source": [
        "greeting = 'hello'\n",
        "name = 'harsh akshit'\n",
        "\n",
        "message_1 = greeting+', '+name+'. Welcome!' #String concatenation\n",
        "message_2 = '{}, {}. Welcome!'.format(greeting,name)\n",
        "\n",
        "print(message_1)\n",
        "print(message_2)"
      ],
      "execution_count": null,
      "outputs": [
        {
          "output_type": "stream",
          "text": [
            "hello, harsh akshit. Welcome!\n",
            "hello, harsh akshit. Welcome!\n"
          ],
          "name": "stdout"
        }
      ]
    },
    {
      "cell_type": "markdown",
      "metadata": {
        "id": "fZzaWXVEPTOJ"
      },
      "source": [
        "<br><br>\n",
        "\n",
        "## Variable Naming Conventions:**\n",
        "\n",
        "There are some rules we need to follow while giving a name for a Python variable.\n",
        "\n",
        "- **Rule-1**: You should start variable name with an alphabet or **underscore(_)** character.\n",
        "- **Rule-2:** A variable name can only contain **A-Z,a-z,0-9** and **underscore(_)**.\n",
        "- **Rule-3:** You cannot start the variable name with a **number**.\n",
        "- **Rule-4:** You cannot use special characters with the variable name such as such as **$,%,#,&,@.-,^** etc.\n",
        "- **Rule-5**: Variable names are **case sensitive**. For example str and Str are two different variables.\n",
        "- **Rule-6:** Do not use reserve keyword as a variable name for example keywords like **class, for, def, del, is, else,** **try, from,** etc. more examples are given below and as we go through the course we will come across many more. Creating names that are descriptive of the values often will help you avoid using any of these words."
      ]
    },
    {
      "cell_type": "code",
      "metadata": {
        "id": "dsgbMOFgPTOK"
      },
      "source": [
        "#Allowed variable names\n",
        "\n",
        "x=2\n",
        "y=\"Hello\"\n",
        "mypython=\"PythonGuides\"\n",
        "my_python=\"PythonGuides\"\n",
        "_my_python=\"PythonGuides\"\n",
        "_mypython=\"PythonGuides\"\n",
        "MYPYTHON=\"PythonGuides\"\n",
        "myPython=\"PythonGuides\"\n",
        "myPython7=\"PythonGuides\"\n"
      ],
      "execution_count": null,
      "outputs": []
    },
    {
      "cell_type": "code",
      "metadata": {
        "id": "c0Xf_G21PTOK",
        "outputId": "002b5e34-30c3-4758-db20-2422516970a7"
      },
      "source": [
        "#Variable name not Allowed\n",
        "\n",
        "7mypython=\"PythonGuides\"\n",
        "-mypython=\"PythonGuides\"\n",
        "myPy@thon=\"PythonGuides\"\n",
        "my Python=\"PythonGuides\"\n",
        "for=\"PythonGuides\"\n",
        "\n",
        "#It shows invalid syntax. \n",
        "#It will execute one by one and will show the error."
      ],
      "execution_count": null,
      "outputs": [
        {
          "output_type": "error",
          "ename": "SyntaxError",
          "evalue": "invalid syntax (<ipython-input-23-23d4199b4438>, line 3)",
          "traceback": [
            "\u001b[1;36m  File \u001b[1;32m\"<ipython-input-23-23d4199b4438>\"\u001b[1;36m, line \u001b[1;32m3\u001b[0m\n\u001b[1;33m    7mypython=\"PythonGuides\"\u001b[0m\n\u001b[1;37m            ^\u001b[0m\n\u001b[1;31mSyntaxError\u001b[0m\u001b[1;31m:\u001b[0m invalid syntax\n"
          ]
        }
      ]
    },
    {
      "cell_type": "markdown",
      "metadata": {
        "id": "w0QU_AF8PTOK"
      },
      "source": [
        "# Integers and Floats:\n",
        "##### Working with numeric data"
      ]
    },
    {
      "cell_type": "markdown",
      "metadata": {
        "id": "OfRKKt7xPTOL"
      },
      "source": [
        "### Arithmetic Operators:\n",
        "#### Addition:           7+5\n",
        "#### Subtraction:     7-5\n",
        "#### Multiplication:  7*5\n",
        "#### Division:           7/5 \n",
        "#### Floor Division: 7//5 -> Drops decimal value\n",
        "#### Exponent:         7**5\n",
        "#### Modulus:           7%5 "
      ]
    },
    {
      "cell_type": "code",
      "metadata": {
        "id": "2qXJyirDPTOL",
        "outputId": "d028fe4e-fab0-4408-fafd-f9323aa073c0"
      },
      "source": [
        "abs(-11) #Returns absolute value of integer data"
      ],
      "execution_count": null,
      "outputs": [
        {
          "output_type": "execute_result",
          "data": {
            "text/plain": [
              "11"
            ]
          },
          "metadata": {
            "tags": []
          },
          "execution_count": 25
        }
      ]
    },
    {
      "cell_type": "code",
      "metadata": {
        "id": "E6DcpsZbPTOL",
        "outputId": "c526037c-c912-4b03-aa91-0c1796895bce"
      },
      "source": [
        "num = 1\n",
        "num = num+1\n",
        "num += 1\n",
        "print(num)"
      ],
      "execution_count": null,
      "outputs": [
        {
          "output_type": "stream",
          "text": [
            "3\n"
          ],
          "name": "stdout"
        }
      ]
    },
    {
      "cell_type": "code",
      "metadata": {
        "id": "7Qj9szy4PTOM",
        "outputId": "f2c00a3e-7143-4ea0-9af8-58d7f000f5a4"
      },
      "source": [
        "round(8.63) # round to nearest integer"
      ],
      "execution_count": null,
      "outputs": [
        {
          "output_type": "execute_result",
          "data": {
            "text/plain": [
              "9"
            ]
          },
          "metadata": {
            "tags": []
          },
          "execution_count": 28
        }
      ]
    },
    {
      "cell_type": "code",
      "metadata": {
        "id": "-oHVFsdrPTON",
        "outputId": "f9569b95-f8f5-462d-dcef-710dd3297060"
      },
      "source": [
        "round(8.63,1) #rounds till first decimal point"
      ],
      "execution_count": null,
      "outputs": [
        {
          "output_type": "execute_result",
          "data": {
            "text/plain": [
              "8.6"
            ]
          },
          "metadata": {
            "tags": []
          },
          "execution_count": 29
        }
      ]
    },
    {
      "cell_type": "markdown",
      "metadata": {
        "id": "1EJiGvhtPTON"
      },
      "source": [
        "### Comparison Operators:\n",
        "#### Equal:                   7==5\n",
        "#### Not Equal:            7!=5\n",
        "#### Greater than:       7>5\n",
        "#### Less than:            7<5 \n",
        "#### Greater or Equal: 7>=5\n",
        "#### Less or Equal:      7<=5"
      ]
    },
    {
      "cell_type": "code",
      "metadata": {
        "id": "LxCdL7eYPTON",
        "outputId": "5af0eb27-c453-4bc0-b8d1-633994956416"
      },
      "source": [
        "num_1 = 7\n",
        "num_2 = 5\n",
        "print(num_1 == num_2)"
      ],
      "execution_count": null,
      "outputs": [
        {
          "output_type": "stream",
          "text": [
            "False\n"
          ],
          "name": "stdout"
        }
      ]
    },
    {
      "cell_type": "code",
      "metadata": {
        "id": "HvvKsVhXPTON"
      },
      "source": [
        ""
      ],
      "execution_count": null,
      "outputs": []
    }
  ]
}